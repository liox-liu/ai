{
  "nbformat": 4,
  "nbformat_minor": 0,
  "metadata": {
    "colab": {
      "provenance": [],
      "gpuType": "T4",
      "authorship_tag": "ABX9TyMZFD+iwb6BUPjMCgQBACVX",
      "include_colab_link": true
    },
    "kernelspec": {
      "name": "python3",
      "display_name": "Python 3"
    },
    "language_info": {
      "name": "python"
    },
    "accelerator": "GPU"
  },
  "cells": [
    {
      "cell_type": "markdown",
      "metadata": {
        "id": "view-in-github",
        "colab_type": "text"
      },
      "source": [
        "<a href=\"https://colab.research.google.com/github/liox-liu/ai/blob/main/studyNotes/llm/000_Ollamma.ipynb\" target=\"_parent\"><img src=\"https://colab.research.google.com/assets/colab-badge.svg\" alt=\"Open In Colab\"/></a>"
      ]
    },
    {
      "cell_type": "markdown",
      "source": [
        "# Ollamma\n",
        "\n",
        "As the first try, let's run llama with Ollama.\n",
        "\n",
        "\n",
        "# Install Colab-XTerm\n",
        "\n",
        "First of first, change runtime type to \"T4 GPU\", connect to runtime and install Colab-Xterm.\n",
        "\n",
        "Then run the following codes in xterm:\n",
        "\n",
        "1. Install packages\n",
        "\n",
        "```bash\n",
        "pip install langchain\n",
        "pip install -U langchain-community\n",
        "pip install langchain_ollama\n",
        "```\n",
        "\n",
        "2. Install Ollama\n",
        "\n",
        "```\n",
        "curl -fsSL https://ollama.com/install.sh | sh\n",
        "```\n",
        "\n",
        "3. Run Ollamma\n",
        "\n",
        "```\n",
        "ollama serve &\n",
        "```\n",
        "\n",
        "4. Pull model\n",
        "\n",
        "```\n",
        "ollama pull lamma3.1\n",
        "```"
      ],
      "metadata": {
        "id": "vP-Hrk_IKetw"
      }
    },
    {
      "cell_type": "code",
      "source": [
        "!pip install colab-xterm\n",
        "%load_ext colabxterm\n",
        "%xterm"
      ],
      "metadata": {
        "id": "-LbCKSK6Kw-L"
      },
      "execution_count": null,
      "outputs": []
    },
    {
      "cell_type": "markdown",
      "source": [
        "# Try a little program"
      ],
      "metadata": {
        "id": "JVAtVzWrPgYV"
      }
    },
    {
      "cell_type": "code",
      "source": [
        "from langchain_community.llms import Ollama\n",
        "\n",
        "llm_llama = Ollama(model='llama3.1')\n",
        "response = llm_llama.invoke('Tell me a joke.')\n",
        "print(response)"
      ],
      "metadata": {
        "colab": {
          "base_uri": "https://localhost:8080/"
        },
        "id": "vhI-5cNBO4CK",
        "outputId": "197b1050-e0b6-4175-b4a8-b8e6f21c52ac"
      },
      "execution_count": 3,
      "outputs": [
        {
          "output_type": "stream",
          "name": "stderr",
          "text": [
            "<ipython-input-3-5ec0388aed91>:3: LangChainDeprecationWarning: The class `Ollama` was deprecated in LangChain 0.3.1 and will be removed in 1.0.0. An updated version of the class exists in the :class:`~langchain-ollama package and should be used instead. To use it run `pip install -U :class:`~langchain-ollama` and import as `from :class:`~langchain_ollama import OllamaLLM``.\n",
            "  llm_llama = Ollama(model='llama3.1')\n"
          ]
        },
        {
          "output_type": "stream",
          "name": "stdout",
          "text": [
            "Here's one:\n",
            "\n",
            "What do you call a fake noodle?\n",
            "\n",
            "(wait for it...)\n",
            "\n",
            "An impasta!\n",
            "\n",
            "I hope that made you laugh! Do you want to hear another one?\n"
          ]
        }
      ]
    },
    {
      "cell_type": "markdown",
      "source": [
        "# Done\n",
        "\n",
        "That's it!"
      ],
      "metadata": {
        "id": "6gRzXuaCPw4W"
      }
    }
  ]
}